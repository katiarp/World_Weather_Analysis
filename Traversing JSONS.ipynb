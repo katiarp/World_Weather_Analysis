{
 "cells": [
  {
   "cell_type": "code",
   "execution_count": 2,
   "id": "f568355a",
   "metadata": {},
   "outputs": [],
   "source": [
    "import requests\n",
    "from config import weather_api_key"
   ]
  },
  {
   "cell_type": "code",
   "execution_count": 3,
   "id": "07045611",
   "metadata": {},
   "outputs": [],
   "source": [
    "#save the base of our API url as a variable\n",
    "url = \"http://api.openweathermap.org/data/2.5/weather?\"\n",
    "#the openWeather api we are using queries the weather for a specific city\n",
    "#by the name. Let's save london as a variable named city\n",
    "city = \"London\"\n"
   ]
  },
  {
   "cell_type": "markdown",
   "id": "fd0c889a",
   "metadata": {},
   "source": [
    "In the OpenWeather API documentation we can find other types of queries and URLs. It is important to consult the documentation to ensure we are correclty interpreting the JSON keys and values. Having our base, our API key and our city name, we can build our full API url request. The complete request is : url + \"appid=\" + api_key +\"&q=\" +city."
   ]
  },
  {
   "cell_type": "code",
   "execution_count": 4,
   "id": "d9077d2b",
   "metadata": {},
   "outputs": [],
   "source": [
    "query_url= url + \"appid=\" + weather_api_key + \"&q=\" + city\n"
   ]
  },
  {
   "cell_type": "markdown",
   "id": "7d2122fa",
   "metadata": {},
   "source": [
    "To request data we need to use the .get method from the requests library to save our API response to a variable. In order to convert the API request to the more accessible JSON format, we use the .json method of the rsponse variable, we can save this output as weather_json."
   ]
  },
  {
   "cell_type": "code",
   "execution_count": 5,
   "id": "8bca1db4",
   "metadata": {},
   "outputs": [
    {
     "data": {
      "text/plain": [
       "{'coord': {'lon': -0.1257, 'lat': 51.5085},\n",
       " 'weather': [{'id': 804,\n",
       "   'main': 'Clouds',\n",
       "   'description': 'overcast clouds',\n",
       "   'icon': '04d'}],\n",
       " 'base': 'stations',\n",
       " 'main': {'temp': 288.22,\n",
       "  'feels_like': 288.21,\n",
       "  'temp_min': 287.25,\n",
       "  'temp_max': 288.98,\n",
       "  'pressure': 1014,\n",
       "  'humidity': 93},\n",
       " 'visibility': 10000,\n",
       " 'wind': {'speed': 2.57, 'deg': 280},\n",
       " 'clouds': {'all': 100},\n",
       " 'dt': 1663922440,\n",
       " 'sys': {'type': 2,\n",
       "  'id': 2075535,\n",
       "  'country': 'GB',\n",
       "  'sunrise': 1663912073,\n",
       "  'sunset': 1663955882},\n",
       " 'timezone': 3600,\n",
       " 'id': 2643743,\n",
       " 'name': 'London',\n",
       " 'cod': 200}"
      ]
     },
     "execution_count": 5,
     "metadata": {},
     "output_type": "execute_result"
    }
   ],
   "source": [
    "weather_response = requests.get(query_url)\n",
    "weather_json= weather_response.json()\n",
    "weather_json"
   ]
  },
  {
   "cell_type": "markdown",
   "id": "cb7ba22d",
   "metadata": {},
   "source": [
    "To look at all the keys from the response we can use the .keys method. The OpenWeather api has very clear data labels."
   ]
  },
  {
   "cell_type": "code",
   "execution_count": 10,
   "id": "10660d01",
   "metadata": {},
   "outputs": [
    {
     "data": {
      "text/plain": [
       "dict_keys(['coord', 'weather', 'base', 'main', 'visibility', 'wind', 'clouds', 'dt', 'sys', 'timezone', 'id', 'name', 'cod'])"
      ]
     },
     "execution_count": 10,
     "metadata": {},
     "output_type": "execute_result"
    }
   ],
   "source": [
    "weather_json.keys()"
   ]
  },
  {
   "cell_type": "markdown",
   "id": "8fbdcfbf",
   "metadata": {},
   "source": [
    "When dealing with more vague data lables such as 'main', we can obtain the JSON values by using the .get method, and passing the key of interst as our argument."
   ]
  },
  {
   "cell_type": "code",
   "execution_count": 11,
   "id": "759afa93",
   "metadata": {},
   "outputs": [
    {
     "data": {
      "text/plain": [
       "{'temp': 289.39,\n",
       " 'feels_like': 289.08,\n",
       " 'temp_min': 286.77,\n",
       " 'temp_max': 290.9,\n",
       " 'pressure': 1020,\n",
       " 'humidity': 77}"
      ]
     },
     "execution_count": 11,
     "metadata": {},
     "output_type": "execute_result"
    }
   ],
   "source": [
    "weather_json.get(\"main\")"
   ]
  },
  {
   "cell_type": "code",
   "execution_count": null,
   "id": "fa35b9d3",
   "metadata": {},
   "outputs": [],
   "source": []
  }
 ],
 "metadata": {
  "kernelspec": {
   "display_name": "PythonData",
   "language": "python",
   "name": "pythondata"
  },
  "language_info": {
   "codemirror_mode": {
    "name": "ipython",
    "version": 3
   },
   "file_extension": ".py",
   "mimetype": "text/x-python",
   "name": "python",
   "nbconvert_exporter": "python",
   "pygments_lexer": "ipython3",
   "version": "3.9.12"
  }
 },
 "nbformat": 4,
 "nbformat_minor": 5
}
